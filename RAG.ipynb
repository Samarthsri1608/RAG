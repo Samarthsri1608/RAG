{
  "cells": [
    {
      "cell_type": "markdown",
      "metadata": {
        "id": "view-in-github",
        "colab_type": "text"
      },
      "source": [
        "<a href=\"https://colab.research.google.com/github/Samarthsri1608/RAG/blob/main/RAG.ipynb\" target=\"_parent\"><img src=\"https://colab.research.google.com/assets/colab-badge.svg\" alt=\"Open In Colab\"/></a>"
      ]
    },
    {
      "cell_type": "code",
      "execution_count": null,
      "metadata": {
        "id": "Gbuuk2TeGZmz"
      },
      "outputs": [],
      "source": [
        "!pip install requests\n",
        "!pip install pdfplumber\n",
        "!pip install google-genai"
      ]
    },
    {
      "cell_type": "code",
      "execution_count": 2,
      "metadata": {
        "id": "KliWcD4IGisl"
      },
      "outputs": [],
      "source": [
        "import requests\n",
        "import pdfplumber\n",
        "from sklearn.metrics.pairwise import cosine_similarity\n",
        "from sentence_transformers import SentenceTransformer\n",
        "import numpy as np\n",
        "from google import genai"
      ]
    },
    {
      "cell_type": "code",
      "source": [
        "# PDF link of Harry Potter and Prisoner of Azkaban\n",
        "pdf_url = 'https://vidyaprabodhinicollege.edu.in/VPCCECM/ebooks/ENGLISH%20LITERATURE/Harry%20potter/(Book%203)%20Harry%20Potter%20And%20The%20Prisoner%20Of%20Azkaban_001.pdf'\n"
      ],
      "metadata": {
        "id": "CMSBN-lvBW89"
      },
      "execution_count": 3,
      "outputs": []
    },
    {
      "cell_type": "code",
      "source": [
        "response = requests.get(pdf_url)\n",
        "with open('document.pdf', 'wb') as f:\n",
        "    f.write(response.content)"
      ],
      "metadata": {
        "id": "QoVNVfITBqTU"
      },
      "execution_count": 4,
      "outputs": []
    },
    {
      "cell_type": "code",
      "source": [
        "full_text = \"\"\n",
        "with pdfplumber.open(\"document.pdf\") as pdf:\n",
        "  for page in pdf.pages:\n",
        "    full_text += page.extract_text()"
      ],
      "metadata": {
        "id": "_JoNpD-7a5pi"
      },
      "execution_count": 5,
      "outputs": []
    },
    {
      "cell_type": "code",
      "source": [
        "embedder = SentenceTransformer('all-MiniLM-L6-v2')"
      ],
      "metadata": {
        "id": "wMlsLTV_1HiD"
      },
      "execution_count": null,
      "outputs": []
    },
    {
      "cell_type": "code",
      "source": [
        "chunks = full_text.split(\"\\n\")\n",
        "embeddings = embedder.encode(chunks)"
      ],
      "metadata": {
        "id": "i5E1rSVv1U21"
      },
      "execution_count": 7,
      "outputs": []
    },
    {
      "cell_type": "code",
      "source": [
        "def retrieve(query, top_n=3):\n",
        "    query_vector = embedder.encode([query])\n",
        "    sims = cosine_similarity(query_vector, embeddings)[0]\n",
        "    top_idx = np.argsort(sims)[-top_n:][::-1]\n",
        "    return [chunks[i] for i in top_idx]\n"
      ],
      "metadata": {
        "id": "8Svu0Or-1iW3"
      },
      "execution_count": 8,
      "outputs": []
    },
    {
      "cell_type": "code",
      "source": [
        "GEMINI_API_KEY = \"<>\"\n",
        "client = genai.Client(api_key=GEMINI_API_KEY)"
      ],
      "metadata": {
        "id": "yTds6O9hwYEe"
      },
      "execution_count": 9,
      "outputs": []
    },
    {
      "cell_type": "code",
      "source": [
        "def respond(query):\n",
        "  Context = \"\\n\".join(retrieve(query, top_n=3))\n",
        "  print(f\"Recieved Context = {Context}\")\n",
        "  response = client.models.generate_content(\n",
        "      model=\"gemini-2.0-flash-lite\", contents=f\"\"\"You are an assistant, answer the query based on the given context.\n",
        "      Context: {Context}, query = {query}\n",
        "      \"\"\"\n",
        "  )\n",
        "  return response.text"
      ],
      "metadata": {
        "id": "zX1o-hsS_S1H"
      },
      "execution_count": 10,
      "outputs": []
    },
    {
      "cell_type": "code",
      "source": [
        "print(respond(\"<>\"))"
      ],
      "metadata": {
        "id": "-7d3a_e5j445"
      },
      "execution_count": null,
      "outputs": []
    },
    {
      "cell_type": "code",
      "source": [],
      "metadata": {
        "id": "etqdvnFtFOCA"
      },
      "execution_count": 11,
      "outputs": []
    }
  ],
  "metadata": {
    "accelerator": "GPU",
    "colab": {
      "gpuType": "T4",
      "provenance": [],
      "authorship_tag": "ABX9TyOZrDGTcLabiA6u8rSEVNQK",
      "include_colab_link": true
    },
    "kernelspec": {
      "display_name": "Python 3",
      "name": "python3"
    },
    "language_info": {
      "name": "python"
    }
  },
  "nbformat": 4,
  "nbformat_minor": 0
}